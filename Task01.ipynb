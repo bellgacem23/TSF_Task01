{
  "nbformat": 4,
  "nbformat_minor": 0,
  "metadata": {
    "colab": {
      "provenance": []
    },
    "kernelspec": {
      "name": "python3",
      "display_name": "Python 3"
    },
    "language_info": {
      "name": "python"
    }
  },
  "cells": [
    {
      "cell_type": "markdown",
      "source": [
        "#THE SPARKS FOUNDATION DATA SCIENCE & BUSINESS ANALYTICS INTERNSHIP\n",
        "##Name: Belgacem CHAIBI\n",
        "Grip April 2024 Batch\n",
        "\n",
        "**TASK 01 : Prediction using Supervised ML**"
      ],
      "metadata": {
        "id": "oFJJEv6Ih9Lg"
      }
    },
    {
      "cell_type": "markdown",
      "source": [
        "#🔬 Problem Definition:\n",
        "\n",
        "We want to buil a ML model that can predict the percentage of a student based on the no. of study hours uising **simple linear regression** .\n",
        "\n",
        "What will be the predicted score if a student studies for 9.25 hrs./day?"
      ],
      "metadata": {
        "id": "tpo5cqdqjEwF"
      }
    },
    {
      "cell_type": "markdown",
      "source": [
        "## ✅ Importing libraries"
      ],
      "metadata": {
        "id": "J9jZCzrDiwiu"
      }
    },
    {
      "cell_type": "code",
      "execution_count": 1,
      "metadata": {
        "id": "Dr7pTlSmUcPK"
      },
      "outputs": [],
      "source": [
        "import numpy as np\n",
        "import pandas as pd\n",
        "from sklearn.model_selection import train_test_split\n",
        "from sklearn.linear_model import LinearRegression\n",
        "import matplotlib.pyplot as plt\n"
      ]
    },
    {
      "cell_type": "markdown",
      "source": [
        "#📥 Load the data"
      ],
      "metadata": {
        "id": "oeingvRalYFN"
      }
    },
    {
      "cell_type": "code",
      "source": [
        "data=pd.read_csv(\"http://bit.ly/w-data\")\n",
        "data.head()"
      ],
      "metadata": {
        "id": "zMqAvkGmlhEH"
      },
      "execution_count": null,
      "outputs": []
    },
    {
      "cell_type": "markdown",
      "source": [
        "## ▶ Check missing values"
      ],
      "metadata": {
        "id": "aLvoepKrmCZ0"
      }
    },
    {
      "cell_type": "code",
      "source": [
        "data.isnull().sum()"
      ],
      "metadata": {
        "id": "JA85pTWwmmJL"
      },
      "execution_count": null,
      "outputs": []
    },
    {
      "cell_type": "markdown",
      "source": [
        "No Null Value is Found ✅"
      ],
      "metadata": {
        "id": "o9msbHHCn8t7"
      }
    },
    {
      "cell_type": "markdown",
      "source": [
        "# 🖼 Data Visualization"
      ],
      "metadata": {
        "id": "JtCYa5FWmyYa"
      }
    },
    {
      "cell_type": "code",
      "source": [
        "# Plotting the distribution of scores\n",
        "s_data.plot(x='Hours', y='Scores', style='o')\n",
        "plt.title('Hours vs Percentage')\n",
        "plt.xlabel('Hours Studied')\n",
        "plt.ylabel('Percentage Score')\n",
        "plt.show()"
      ],
      "metadata": {
        "id": "KA0qQ6whm6sP"
      },
      "execution_count": null,
      "outputs": []
    },
    {
      "cell_type": "markdown",
      "source": [
        "###*From the graph it's clear  that there is a positive linear relation between the number of hours studied and percentage of score.*"
      ],
      "metadata": {
        "id": "mCX0TSjzowh3"
      }
    },
    {
      "cell_type": "code",
      "source": [
        "# Plotting the regression line\n",
        "line = regressor.coef_*X+regressor.intercept_\n",
        "\n",
        "# Plotting for the test data\n",
        "plt.scatter(X, y)\n",
        "plt.plot(X, line);\n",
        "plt.show()"
      ],
      "metadata": {
        "id": "vuvlNnE-qoSs"
      },
      "execution_count": null,
      "outputs": []
    },
    {
      "cell_type": "markdown",
      "source": [
        "\n",
        "# 🤖 Model Building"
      ],
      "metadata": {
        "id": "M9uNsz2gm-mI"
      }
    },
    {
      "cell_type": "code",
      "source": [
        "#Splitting the data\n",
        "\n",
        "X = data.iloc[:, :-1].values\n",
        "y = data.iloc[:, 1].values\n",
        "\n",
        "#training\n",
        "regressor = LinearRegression()\n",
        "regressor.fit(X_train, y_train)\n",
        "\n",
        "print(\"Training complete.\")\n"
      ],
      "metadata": {
        "id": "4H4VScAcnIlD"
      },
      "execution_count": null,
      "outputs": []
    },
    {
      "cell_type": "markdown",
      "source": [
        "# 📊 Model Evaluation\n"
      ],
      "metadata": {
        "id": "VadNDiKgq0aT"
      }
    },
    {
      "cell_type": "markdown",
      "source": [
        "# Evaluating the model\n",
        "y_pred = model.predict(X_test)\n",
        "mae = mean_absolute_error(y_test, y_pred)\n",
        "mse = mean_squared_error(y_test, y_pred)\n",
        "r2 = r2_score(y_test, y_pred)\n",
        "print(\"Mean Absolute Error:\", mae)\n",
        "print(\"Mean Squared Error:\", mse)\n",
        "print(\"R-squared Score:\", r2)"
      ],
      "metadata": {
        "id": "H4acn9_wrD8G"
      }
    },
    {
      "cell_type": "markdown",
      "source": [
        "\n",
        "# ❓ Making predictions"
      ],
      "metadata": {
        "id": "bBzHS546sSYR"
      }
    },
    {
      "cell_type": "code",
      "source": [
        "hours_studied = 9.25  # Given number of study hours\n",
        "predicted_score = model.predict([[hours_studied]])\n",
        "print(\"Predicted score for {} hours/day of study: {:.2f} marks\".format(hours_studied, predicted_score[0]))"
      ],
      "metadata": {
        "id": "9DYbqYYaspyR"
      },
      "execution_count": null,
      "outputs": []
    }
  ]
}